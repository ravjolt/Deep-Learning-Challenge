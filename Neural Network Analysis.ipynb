{
 "cells": [
  {
   "cell_type": "markdown",
   "id": "e5384d78",
   "metadata": {},
   "source": [
    "# Deep Learning Homework: Charity Funding Predictor"
   ]
  },
  {
   "cell_type": "markdown",
   "id": "bcfbbc38",
   "metadata": {},
   "source": [
    "# Overview:"
   ]
  },
  {
   "cell_type": "markdown",
   "id": "59fe2829",
   "metadata": {},
   "source": [
    "The purpose of this analysis was to create a model that would predict whether or not applicants for funding were successful in receiving funds."
   ]
  },
  {
   "cell_type": "markdown",
   "id": "7f27787f",
   "metadata": {},
   "source": [
    "# Processing:"
   ]
  },
  {
   "cell_type": "markdown",
   "id": "ef4ba3c1",
   "metadata": {},
   "source": [
    "The dataset had 12 features. Two of these features, EIN and NAME, were determined to be irrelevant and dropped from the dataset. Features, CLASSIFICATION and APPLICATION_TYPE, were renamed as ‘Other’. From this modified dataset, we split the data into training and testing sets. The target variable for this model is “IS_SUCESSFUL”, which works in binary (yes = 1, no = 0). All categorical data was encoded by using ‘pd.get_dummies’."
   ]
  },
  {
   "cell_type": "markdown",
   "id": "d0f8a976",
   "metadata": {},
   "source": [
    "# Compiling, Training, and Evaluating"
   ]
  },
  {
   "cell_type": "markdown",
   "id": "4bc2e7aa",
   "metadata": {},
   "source": [
    "1.\tFor the initial, neural network model 2 hidden layers were chosen (nodes = 80, 30 respectively). These layers help the model filter while learning to predict and classify. Both layers used “relu” as the activation function and “sigmoid” was used for the output layer. The epochs was set to 200.\n",
    "\n"
   ]
  },
  {
   "cell_type": "code",
   "execution_count": 1,
   "id": "d4da8ca7",
   "metadata": {},
   "outputs": [],
   "source": [
    "import imageio as iio\n",
    " \n",
    "# read an image\n",
    "img = iio.imread(\"Resources/images/model_1.jpg\")"
   ]
  },
  {
   "cell_type": "markdown",
   "id": "e4980082",
   "metadata": {},
   "source": [
    "The model didn’t reach the target performance of 75%. The accuracy was 73%."
   ]
  },
  {
   "cell_type": "markdown",
   "id": "8491c81c",
   "metadata": {},
   "source": [
    "2.\tIn the second model, a third hidden layer was added. The neural network layers had the following nodes: 80, 40, 20 respectively. The epochs was reduced to 120 since, in the first model, 73% was first observed around epoch ~120. The activation functions remained unchanged."
   ]
  },
  {
   "cell_type": "code",
   "execution_count": null,
   "id": "aa8af18d",
   "metadata": {},
   "outputs": [],
   "source": [
    "# read an image\n",
    "img = iio.imread(\"Resources/images/model_2.jpg\")"
   ]
  },
  {
   "cell_type": "markdown",
   "id": "e7cd9771",
   "metadata": {},
   "source": [
    "The model didn’t reach the target performance. It performed about the same as the initial model, 73%."
   ]
  },
  {
   "cell_type": "markdown",
   "id": "5c4f2ef1",
   "metadata": {},
   "source": [
    "3.\tFor the last model, a fourth hidden layer was added. The neural network layers had the following nodes: 50, 30, 20, 5 respectively. The epochs was increased to 200. The output layer activation function was changed to “tanh”."
   ]
  },
  {
   "cell_type": "code",
   "execution_count": null,
   "id": "4f219a5c",
   "metadata": {},
   "outputs": [],
   "source": [
    "# read an image\n",
    "img = iio.imread(\"Resources/images/model_3.jpg\""
   ]
  },
  {
   "cell_type": "markdown",
   "id": "cbb7e2cb",
   "metadata": {},
   "source": [
    "The model didn’t reach the target performance. It performed about the same as the initial model, 73%."
   ]
  },
  {
   "cell_type": "markdown",
   "id": "4bd9cb26",
   "metadata": {},
   "source": [
    "# Summary"
   ]
  },
  {
   "cell_type": "markdown",
   "id": "09f53b6a",
   "metadata": {},
   "source": [
    "The model was unable to meet the target performance 75%. All three attempts remained around 73%. The model could be overfitting the data leading to a loss accuracy. A further reduction in features and or the use of another machine learning tool like RandomForest to further train the model."
   ]
  }
 ],
 "metadata": {
  "kernelspec": {
   "display_name": "Python 3 (ipykernel)",
   "language": "python",
   "name": "python3"
  },
  "language_info": {
   "codemirror_mode": {
    "name": "ipython",
    "version": 3
   },
   "file_extension": ".py",
   "mimetype": "text/x-python",
   "name": "python",
   "nbconvert_exporter": "python",
   "pygments_lexer": "ipython3",
   "version": "3.8.8"
  }
 },
 "nbformat": 4,
 "nbformat_minor": 5
}
